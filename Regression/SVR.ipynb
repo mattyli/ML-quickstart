{
 "cells": [
  {
   "cell_type": "markdown",
   "metadata": {},
   "source": [
    "# Support Vector Regression\n",
    "\n",
    "To put it simply, this is kind of like linear regression, except the line becomes a hollow tube. The boundaries of this tube are the acceptable margins of error, anything inside is irrelvant. However the points outside this tube, these vectors, kind of hold it up in a sense. And that is what we are after. "
   ]
  },
  {
   "cell_type": "code",
   "execution_count": 3,
   "metadata": {},
   "outputs": [
    {
     "name": "stdout",
     "output_type": "stream",
     "text": [
      "[-14.8, -14.8, -6.1, -6, -2.9, -2.4, 13.2, 22.7]\n"
     ]
    }
   ],
   "source": [
    "# always begin with importing the libaries \n",
    "\n",
    "import numpy as np\n",
    "import pandas as pd\n",
    "\n",
    "ls = [-6.1, 13.2, -14.8, -6, -2.9, -2.4, -14.8, 22.7]\n",
    "ls.sort()\n",
    "print(ls)"
   ]
  }
 ],
 "metadata": {
  "kernelspec": {
   "display_name": "Python 3.10.5 64-bit (windows store)",
   "language": "python",
   "name": "python3"
  },
  "language_info": {
   "codemirror_mode": {
    "name": "ipython",
    "version": 3
   },
   "file_extension": ".py",
   "mimetype": "text/x-python",
   "name": "python",
   "nbconvert_exporter": "python",
   "pygments_lexer": "ipython3",
   "version": "3.10.5"
  },
  "orig_nbformat": 4,
  "vscode": {
   "interpreter": {
    "hash": "2c43db2c2862a4fb74eb30a5dd42a1a7d13bd278472af02749b6309fef51ecb8"
   }
  }
 },
 "nbformat": 4,
 "nbformat_minor": 2
}
