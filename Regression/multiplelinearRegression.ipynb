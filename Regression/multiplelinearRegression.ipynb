{
 "cells": [
  {
   "cell_type": "markdown",
   "metadata": {},
   "source": [
    "# Multiple Linear Regression\n",
    "\n",
    "The intuition behind this model is similar to simple linear regression, but differs in the fact that now, we are accounting for other independent variables that may affect the dependent variable. \n",
    "\n",
    "Key thing to note: \n",
    "\n",
    "For multiple linear regression, for a categorical variable with n levels, ONLY include n-1 levels in the model. If not, we will experience COLLINEARITY.\n"
   ]
  }
 ],
 "metadata": {
  "language_info": {
   "name": "python"
  },
  "orig_nbformat": 4
 },
 "nbformat": 4,
 "nbformat_minor": 2
}
