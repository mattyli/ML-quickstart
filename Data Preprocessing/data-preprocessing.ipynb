{
 "cells": [
  {
   "cell_type": "markdown",
   "metadata": {},
   "source": [
    "# Data Pre-processing\n",
    "\n",
    "The concept of machine learning and artificial intelligence is highly dependent on the quantity and quality of data that you have. It is this data that is used to train and evaluate your models.\n",
    "\n",
    "Thus, it is important to ensure that your data is 'clean', i.e. there are no missing values, values are of the correct type.\n",
    "\n",
    "Python makes it extremely easy to perform this task with the wide variety of libraries available. For this stage in ML development, the most important libaries are NumPy, Pandas and SKlearn (SciKitLearn)\n",
    "\n",
    "First we will import the libraries and read in the file. "
   ]
  },
  {
   "cell_type": "code",
   "execution_count": 1,
   "metadata": {},
   "outputs": [
    {
     "name": "stdout",
     "output_type": "stream",
     "text": [
      "   Country   Age   Salary Purchased\n",
      "0   France  44.0  72000.0        No\n",
      "1    Spain  27.0  48000.0       Yes\n",
      "2  Germany  30.0  54000.0        No\n",
      "3    Spain  38.0  61000.0        No\n",
      "4  Germany  40.0      NaN       Yes\n",
      "5   France  35.0  58000.0       Yes\n",
      "6    Spain   NaN  52000.0        No\n",
      "7   France  48.0  79000.0       Yes\n",
      "8  Germany  50.0  83000.0        No\n",
      "9   France  37.0  67000.0       Yes\n"
     ]
    }
   ],
   "source": [
    "import numpy as np\n",
    "import pandas as pd\n",
    "\n",
    "myData = pd.read_csv(\"Data.csv\")\n",
    "print(myData)"
   ]
  },
  {
   "cell_type": "markdown",
   "metadata": {},
   "source": [
    "Now we must split the data frame into dependent and indepent values (the information given and what we are trying to predict). In this scenario, given the country, age and salary, we want to predict whether a consumer purchases a product. \n",
    "\n",
    "Thus, whether the consumer PURCHASED something is dependent on the COUNTRY, AGE, and SALARY. \n",
    "\n",
    "Using the .iloc() function of Pandas, we can separate the original dataframe into subdata frames. "
   ]
  },
  {
   "cell_type": "code",
   "execution_count": 5,
   "metadata": {},
   "outputs": [
    {
     "name": "stdout",
     "output_type": "stream",
     "text": [
      "0     No\n",
      "1    Yes\n",
      "2     No\n",
      "3     No\n",
      "4    Yes\n",
      "5    Yes\n",
      "6     No\n",
      "7    Yes\n",
      "8     No\n",
      "9    Yes\n",
      "Name: Purchased, dtype: object\n"
     ]
    }
   ],
   "source": [
    "xSet = myData.iloc[:, :-1].values       # for a slice object, the start:end is exclusive, meaning it will only go up to end-1 where end is an int\n",
    "ySet = myData.iloc[:, -1]               # iloc[rows, cols]\n",
    "print(ySet)"
   ]
  },
  {
   "cell_type": "markdown",
   "metadata": {},
   "source": [
    "As you can see, there are some values that are missing from the Age and Salary columns, denoted by NaN (Not a number). \n",
    "\n",
    "There are many ways of rectifying this, but one common way is to populate these cells with the averages of the rest in each cell's respective column.\n",
    "Using SKlearn, we can modify the dataframe to do this rectification."
   ]
  },
  {
   "cell_type": "code",
   "execution_count": 7,
   "metadata": {},
   "outputs": [
    {
     "name": "stdout",
     "output_type": "stream",
     "text": [
      "[['France' 44.0 72000.0]\n",
      " ['Spain' 27.0 48000.0]\n",
      " ['Germany' 30.0 54000.0]\n",
      " ['Spain' 38.0 61000.0]\n",
      " ['Germany' 40.0 63777.77777777778]\n",
      " ['France' 35.0 58000.0]\n",
      " ['Spain' 38.77777777777778 52000.0]\n",
      " ['France' 48.0 79000.0]\n",
      " ['Germany' 50.0 83000.0]\n",
      " ['France' 37.0 67000.0]]\n"
     ]
    }
   ],
   "source": [
    "from sklearn.impute import SimpleImputer\n",
    "imputer = SimpleImputer(missing_values=np.nan, strategy=\"mean\")         # scan for missing values (NaN) and use the \"mean\" replacement strategy\n",
    "imputer.fit(xSet[: , 1:3])\n",
    "xSet[:, 1:3] = imputer.transform(xSet[:,1:3])                           # updating the xSet\n",
    "print(xSet)"
   ]
  }
 ],
 "metadata": {
  "interpreter": {
   "hash": "880c40a315a9aad5eacc1d65763e70cdbad02f85abc026da352346917c350176"
  },
  "kernelspec": {
   "display_name": "Python 3.9.12 ('base')",
   "language": "python",
   "name": "python3"
  },
  "language_info": {
   "codemirror_mode": {
    "name": "ipython",
    "version": 3
   },
   "file_extension": ".py",
   "mimetype": "text/x-python",
   "name": "python",
   "nbconvert_exporter": "python",
   "pygments_lexer": "ipython3",
   "version": "3.9.12"
  },
  "orig_nbformat": 4
 },
 "nbformat": 4,
 "nbformat_minor": 2
}
